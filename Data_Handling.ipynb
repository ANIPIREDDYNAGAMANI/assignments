{
  "nbformat": 4,
  "nbformat_minor": 0,
  "metadata": {
    "anaconda-cloud": {},
    "kernelspec": {
      "display_name": "Python 3",
      "language": "python",
      "name": "python3"
    },
    "language_info": {
      "codemirror_mode": {
        "name": "ipython",
        "version": 3
      },
      "file_extension": ".py",
      "mimetype": "text/x-python",
      "name": "python",
      "nbconvert_exporter": "python",
      "pygments_lexer": "ipython3",
      "version": "3.7.3"
    },
    "colab": {
      "name": "Data Handling.ipynb",
      "provenance": [],
      "collapsed_sections": [],
      "include_colab_link": true
    }
  },
  "cells": [
    {
      "cell_type": "markdown",
      "metadata": {
        "id": "view-in-github",
        "colab_type": "text"
      },
      "source": [
        "<a href=\"https://colab.research.google.com/github/ANIPIREDDYNAGAMANI/assignments/blob/main/Data_Handling.ipynb\" target=\"_parent\"><img src=\"https://colab.research.google.com/assets/colab-badge.svg\" alt=\"Open In Colab\"/></a>"
      ]
    },
    {
      "cell_type": "markdown",
      "metadata": {
        "_uuid": "89ef93231815456f4e0bc5dcc00b094aee800993",
        "id": "RUzS6BPu6B41"
      },
      "source": [
        "**In this task you should use Pandas to answer a few questions about the [Adult](https://archive.ics.uci.edu/ml/datasets/Adult) dataset. (You don't have to download the data – it's already here). **"
      ]
    },
    {
      "cell_type": "markdown",
      "metadata": {
        "_uuid": "c322301ac858c748f8f80e63cf6f734fc70dde30",
        "id": "_ZcSR_TW6B42"
      },
      "source": [
        "Unique values of all features (for more information, please see the links above):\n",
        "- `age`: continuous.\n",
        "- `workclass`: Private, Self-emp-not-inc, Self-emp-inc, Federal-gov, Local-gov, State-gov, Without-pay, Never-worked.\n",
        "- `fnlwgt`: continuous.\n",
        "- `education`: Bachelors, Some-college, 11th, HS-grad, Prof-school, Assoc-acdm, Assoc-voc, 9th, 7th-8th, 12th, Masters, 1st-4th, 10th, Doctorate, 5th-6th, Preschool.\n",
        "- `education-num`: continuous.\n",
        "- `marital-status`: Married-civ-spouse, Divorced, Never-married, Separated, Widowed, Married-spouse-absent, Married-AF-spouse.\n",
        "- `occupation`: Tech-support, Craft-repair, Other-service, Sales, Exec-managerial, Prof-specialty, Handlers-cleaners, Machine-op-inspct, Adm-clerical, Farming-fishing, Transport-moving, Priv-house-serv, Protective-serv, Armed-Forces.\n",
        "- `relationship`: Wife, Own-child, Husband, Not-in-family, Other-relative, Unmarried.\n",
        "- `race`: White, Asian-Pac-Islander, Amer-Indian-Eskimo, Other, Black.\n",
        "- `sex`: Female, Male.\n",
        "- `capital-gain`: continuous.\n",
        "- `capital-loss`: continuous.\n",
        "- `hours-per-week`: continuous.\n",
        "- `native-country`: United-States, Cambodia, England, Puerto-Rico, Canada, Germany, Outlying-US(Guam-USVI-etc), India, Japan, Greece, South, China, Cuba, Iran, Honduras, Philippines, Italy, Poland, Jamaica, Vietnam, Mexico, Portugal, Ireland, France, Dominican-Republic, Laos, Ecuador, Taiwan, Haiti, Columbia, Hungary, Guatemala, Nicaragua, Scotland, Thailand, Yugoslavia, El-Salvador, Trinadad&Tobago, Peru, Hong, Holand-Netherlands.   \n",
        "- `salary`: >50K,<=50K"
      ]
    },
    {
      "cell_type": "code",
      "metadata": {
        "_uuid": "d3eb2411e23b7db11e4cbbb498a42752442a6f4c",
        "collapsed": true,
        "id": "btSC5OEE6B44"
      },
      "source": [
        "import pandas as pd"
      ],
      "execution_count": null,
      "outputs": []
    },
    {
      "cell_type": "code",
      "metadata": {
        "_uuid": "c5119d1b8151029b4ff57735c4279b795ae492a2",
        "colab": {
          "base_uri": "https://localhost:8080/",
          "height": 306
        },
        "id": "kDSV_v9a6B47",
        "outputId": "e42a616f-5c0a-44cd-e179-c83316554400"
      },
      "source": [
        "data = pd.read_csv('https://archive.ics.uci.edu/ml/machine-learning-databases/adult/adult.data',sep=\", \",engine='python',\n",
        "                   names=[\"age\",\"workclass\",\"fnlwgt\",\"education\",\"education-num\",\"marital-status\",\"occupation\",\"relationship\",\"race\",\"sex\",\"capital-gain\",\"capital-loss\",\"hours-per-week\",\"native-country\",\"salary\"])\n",
        "# data = pd.read_csv('adult.data',sep=\", \",engine='python',\n",
        "#                    names=[\"age\",\"workclass\",\"fnlwgt\",\"education\",\"education-num\",\"marital-status\",\"occupation\",\"relationship\",\"race\",\"sex\",\"capital-gain\",\"capital-loss\",\"hours-per-week\",\"native-country\",\"salary\"]))\n",
        "data.head()"
      ],
      "execution_count": null,
      "outputs": [
        {
          "output_type": "execute_result",
          "data": {
            "text/html": [
              "<div>\n",
              "<style scoped>\n",
              "    .dataframe tbody tr th:only-of-type {\n",
              "        vertical-align: middle;\n",
              "    }\n",
              "\n",
              "    .dataframe tbody tr th {\n",
              "        vertical-align: top;\n",
              "    }\n",
              "\n",
              "    .dataframe thead th {\n",
              "        text-align: right;\n",
              "    }\n",
              "</style>\n",
              "<table border=\"1\" class=\"dataframe\">\n",
              "  <thead>\n",
              "    <tr style=\"text-align: right;\">\n",
              "      <th></th>\n",
              "      <th>age</th>\n",
              "      <th>workclass</th>\n",
              "      <th>fnlwgt</th>\n",
              "      <th>education</th>\n",
              "      <th>education-num</th>\n",
              "      <th>marital-status</th>\n",
              "      <th>occupation</th>\n",
              "      <th>relationship</th>\n",
              "      <th>race</th>\n",
              "      <th>sex</th>\n",
              "      <th>capital-gain</th>\n",
              "      <th>capital-loss</th>\n",
              "      <th>hours-per-week</th>\n",
              "      <th>native-country</th>\n",
              "      <th>salary</th>\n",
              "    </tr>\n",
              "  </thead>\n",
              "  <tbody>\n",
              "    <tr>\n",
              "      <th>0</th>\n",
              "      <td>39</td>\n",
              "      <td>State-gov</td>\n",
              "      <td>77516</td>\n",
              "      <td>Bachelors</td>\n",
              "      <td>13</td>\n",
              "      <td>Never-married</td>\n",
              "      <td>Adm-clerical</td>\n",
              "      <td>Not-in-family</td>\n",
              "      <td>White</td>\n",
              "      <td>Male</td>\n",
              "      <td>2174</td>\n",
              "      <td>0</td>\n",
              "      <td>40</td>\n",
              "      <td>United-States</td>\n",
              "      <td>&lt;=50K</td>\n",
              "    </tr>\n",
              "    <tr>\n",
              "      <th>1</th>\n",
              "      <td>50</td>\n",
              "      <td>Self-emp-not-inc</td>\n",
              "      <td>83311</td>\n",
              "      <td>Bachelors</td>\n",
              "      <td>13</td>\n",
              "      <td>Married-civ-spouse</td>\n",
              "      <td>Exec-managerial</td>\n",
              "      <td>Husband</td>\n",
              "      <td>White</td>\n",
              "      <td>Male</td>\n",
              "      <td>0</td>\n",
              "      <td>0</td>\n",
              "      <td>13</td>\n",
              "      <td>United-States</td>\n",
              "      <td>&lt;=50K</td>\n",
              "    </tr>\n",
              "    <tr>\n",
              "      <th>2</th>\n",
              "      <td>38</td>\n",
              "      <td>Private</td>\n",
              "      <td>215646</td>\n",
              "      <td>HS-grad</td>\n",
              "      <td>9</td>\n",
              "      <td>Divorced</td>\n",
              "      <td>Handlers-cleaners</td>\n",
              "      <td>Not-in-family</td>\n",
              "      <td>White</td>\n",
              "      <td>Male</td>\n",
              "      <td>0</td>\n",
              "      <td>0</td>\n",
              "      <td>40</td>\n",
              "      <td>United-States</td>\n",
              "      <td>&lt;=50K</td>\n",
              "    </tr>\n",
              "    <tr>\n",
              "      <th>3</th>\n",
              "      <td>53</td>\n",
              "      <td>Private</td>\n",
              "      <td>234721</td>\n",
              "      <td>11th</td>\n",
              "      <td>7</td>\n",
              "      <td>Married-civ-spouse</td>\n",
              "      <td>Handlers-cleaners</td>\n",
              "      <td>Husband</td>\n",
              "      <td>Black</td>\n",
              "      <td>Male</td>\n",
              "      <td>0</td>\n",
              "      <td>0</td>\n",
              "      <td>40</td>\n",
              "      <td>United-States</td>\n",
              "      <td>&lt;=50K</td>\n",
              "    </tr>\n",
              "    <tr>\n",
              "      <th>4</th>\n",
              "      <td>28</td>\n",
              "      <td>Private</td>\n",
              "      <td>338409</td>\n",
              "      <td>Bachelors</td>\n",
              "      <td>13</td>\n",
              "      <td>Married-civ-spouse</td>\n",
              "      <td>Prof-specialty</td>\n",
              "      <td>Wife</td>\n",
              "      <td>Black</td>\n",
              "      <td>Female</td>\n",
              "      <td>0</td>\n",
              "      <td>0</td>\n",
              "      <td>40</td>\n",
              "      <td>Cuba</td>\n",
              "      <td>&lt;=50K</td>\n",
              "    </tr>\n",
              "  </tbody>\n",
              "</table>\n",
              "</div>"
            ],
            "text/plain": [
              "   age         workclass  fnlwgt  ... hours-per-week  native-country salary\n",
              "0   39         State-gov   77516  ...             40   United-States  <=50K\n",
              "1   50  Self-emp-not-inc   83311  ...             13   United-States  <=50K\n",
              "2   38           Private  215646  ...             40   United-States  <=50K\n",
              "3   53           Private  234721  ...             40   United-States  <=50K\n",
              "4   28           Private  338409  ...             40            Cuba  <=50K\n",
              "\n",
              "[5 rows x 15 columns]"
            ]
          },
          "metadata": {},
          "execution_count": 4
        }
      ]
    },
    {
      "cell_type": "markdown",
      "metadata": {
        "_uuid": "6b19853f936853d40971b56f4d298ab55ee78cac",
        "id": "bGx4tFLV6B48"
      },
      "source": [
        "**1. How many men and women (*sex* feature) are represented in this dataset?** "
      ]
    },
    {
      "cell_type": "code",
      "metadata": {
        "colab": {
          "base_uri": "https://localhost:8080/"
        },
        "id": "20AdZMkLQb4_",
        "outputId": "6a324603-5d89-4456-9590-fc51068564eb"
      },
      "source": [
        "#you code here\n",
        "total_sex= data['sex'].value_counts()\n",
        "total_sex"
      ],
      "execution_count": null,
      "outputs": [
        {
          "output_type": "execute_result",
          "data": {
            "text/plain": [
              "Male      21790\n",
              "Female    10771\n",
              "Name: sex, dtype: int64"
            ]
          },
          "metadata": {},
          "execution_count": 5
        }
      ]
    },
    {
      "cell_type": "markdown",
      "metadata": {
        "_uuid": "4748793234a5d325ea60d13331ecf93e29774523",
        "id": "nnZOmwBR6B4_"
      },
      "source": [
        "**2. What is the average age (*age* feature) of women?**"
      ]
    },
    {
      "cell_type": "code",
      "metadata": {
        "_uuid": "64f60d928855107d8980875656dcdf3587d91646",
        "colab": {
          "base_uri": "https://localhost:8080/"
        },
        "id": "FBevJQ_F6B5A",
        "outputId": "a51bbdf8-0894-4dee-fe45-67c521ccc7fe"
      },
      "source": [
        "# you code here\n",
        "data.loc[data['sex'] == 'Female', 'age'].mean()"
      ],
      "execution_count": null,
      "outputs": [
        {
          "output_type": "execute_result",
          "data": {
            "text/plain": [
              "36.85823043357163"
            ]
          },
          "metadata": {},
          "execution_count": 6
        }
      ]
    },
    {
      "cell_type": "markdown",
      "metadata": {
        "_uuid": "80e87c421c348067e88769c64e554206c51727d1",
        "id": "PtZ10zWN6B5C"
      },
      "source": [
        "**3. What is the percentage of German citizens (*native-country* feature)?**"
      ]
    },
    {
      "cell_type": "code",
      "metadata": {
        "_uuid": "ca9807509692638bd945671ed7d8b4a5ad1f3626",
        "colab": {
          "base_uri": "https://localhost:8080/"
        },
        "id": "p9KEhsAH6B5D",
        "outputId": "5066ee08-535f-4506-9ea6-803c5c634e7a"
      },
      "source": [
        "# You code here\n",
        "sample=data.shape[0]\n",
        "german=data['native-country']==\"Germany\"\n",
        "float(german.sum()) /sample"
      ],
      "execution_count": null,
      "outputs": [
        {
          "output_type": "execute_result",
          "data": {
            "text/plain": [
              "0.004207487485028101"
            ]
          },
          "metadata": {},
          "execution_count": 8
        }
      ]
    },
    {
      "cell_type": "markdown",
      "metadata": {
        "_uuid": "be9911cf525df4fca2c1d14b8720bc8a82f462e7",
        "id": "1WwJFGlG6B5E"
      },
      "source": [
        "**4-5. What are the mean and standard deviation of age for those who earn more than 50K per year (*salary* feature) and those who earn less than 50K per year? **"
      ]
    },
    {
      "cell_type": "code",
      "metadata": {
        "_uuid": "97948f0115f949913d211627151b5605bcd204fd",
        "colab": {
          "base_uri": "https://localhost:8080/"
        },
        "id": "5O_eHbc86B5F",
        "outputId": "406801a0-e46c-4940-bdf0-988a499474d7"
      },
      "source": [
        "# You code here\n",
        "agesrich = data.loc[data['salary'] == '>50K', 'age']\n",
        "agespoor = data.loc[data['salary'] == '<=50K', 'age']\n",
        "print(\"The average age of the rich: {0} \\n The average age of the poor: {1} \\n standard deviation of rich:{2} \\n standatd deviation of poor:{3}\\n\".format(\n",
        "  agesrich.mean(),agespoor.mean(),agesrich.std(),agespoor.std()))"
      ],
      "execution_count": null,
      "outputs": [
        {
          "output_type": "stream",
          "name": "stdout",
          "text": [
            "The average age of the rich: 44.24984058155847 \n",
            " The average age of the poor: 36.78373786407767 \n",
            " standard deviation of rich:10.51902771985177 \n",
            " standatd deviation of poor:14.020088490824813\n",
            "\n"
          ]
        }
      ]
    },
    {
      "cell_type": "markdown",
      "metadata": {
        "_uuid": "180c3fe6f8b250b877c1d86866067b80acabdb64",
        "id": "Q8717OoS6B5G"
      },
      "source": [
        "**6. Is it true that people who earn more than 50K have at least high school education? (*education – Bachelors, Prof-school, Assoc-acdm, Assoc-voc, Masters* or *Doctorate* feature)**"
      ]
    },
    {
      "cell_type": "code",
      "metadata": {
        "_uuid": "58f38ebfa2b0e1418a6a1a680d0743697f9876a2",
        "colab": {
          "base_uri": "https://localhost:8080/"
        },
        "id": "wweo4HFh6B5H",
        "cellView": "code",
        "outputId": "b990e3d7-b5ae-4f6d-92f2-dec6035c61ff"
      },
      "source": [
        "\n",
        "# You code here\n",
        "data.loc[data['salary'] == '>50K', 'education'].unique()"
      ],
      "execution_count": null,
      "outputs": [
        {
          "output_type": "execute_result",
          "data": {
            "text/plain": [
              "array(['HS-grad', 'Masters', 'Bachelors', 'Some-college', 'Assoc-voc',\n",
              "       'Doctorate', 'Prof-school', 'Assoc-acdm', '7th-8th', '12th',\n",
              "       '10th', '11th', '9th', '5th-6th', '1st-4th'], dtype=object)"
            ]
          },
          "metadata": {},
          "execution_count": 16
        }
      ]
    },
    {
      "cell_type": "markdown",
      "metadata": {
        "_uuid": "87d6bc9ec1c230e66416ce94533ea250368009cc",
        "id": "ek4QBm8t6B5I"
      },
      "source": [
        "**7. Display age statistics for each race (*race* feature) and each gender (*sex* feature). Use *groupby()* and *describe()*. Find the maximum age of men of *Amer-Indian-Eskimo* race.**"
      ]
    },
    {
      "cell_type": "code",
      "metadata": {
        "_uuid": "a4567b72200b583f7f2ee1583405d636c12169db",
        "colab": {
          "base_uri": "https://localhost:8080/",
          "height": 390
        },
        "id": "dR-qGnW76B5J",
        "cellView": "code",
        "outputId": "44b1fb16-c640-4058-e620-abf99d5fb611"
      },
      "source": [
        "\n",
        "# You code here\n",
        "sat_df=data.groupby(['race','sex']).describe()\n",
        "sat_df['age']"
      ],
      "execution_count": null,
      "outputs": [
        {
          "output_type": "execute_result",
          "data": {
            "text/html": [
              "<div>\n",
              "<style scoped>\n",
              "    .dataframe tbody tr th:only-of-type {\n",
              "        vertical-align: middle;\n",
              "    }\n",
              "\n",
              "    .dataframe tbody tr th {\n",
              "        vertical-align: top;\n",
              "    }\n",
              "\n",
              "    .dataframe thead th {\n",
              "        text-align: right;\n",
              "    }\n",
              "</style>\n",
              "<table border=\"1\" class=\"dataframe\">\n",
              "  <thead>\n",
              "    <tr style=\"text-align: right;\">\n",
              "      <th></th>\n",
              "      <th></th>\n",
              "      <th>count</th>\n",
              "      <th>mean</th>\n",
              "      <th>std</th>\n",
              "      <th>min</th>\n",
              "      <th>25%</th>\n",
              "      <th>50%</th>\n",
              "      <th>75%</th>\n",
              "      <th>max</th>\n",
              "    </tr>\n",
              "    <tr>\n",
              "      <th>race</th>\n",
              "      <th>sex</th>\n",
              "      <th></th>\n",
              "      <th></th>\n",
              "      <th></th>\n",
              "      <th></th>\n",
              "      <th></th>\n",
              "      <th></th>\n",
              "      <th></th>\n",
              "      <th></th>\n",
              "    </tr>\n",
              "  </thead>\n",
              "  <tbody>\n",
              "    <tr>\n",
              "      <th rowspan=\"2\" valign=\"top\">Amer-Indian-Eskimo</th>\n",
              "      <th>Female</th>\n",
              "      <td>119.0</td>\n",
              "      <td>37.117647</td>\n",
              "      <td>13.114991</td>\n",
              "      <td>17.0</td>\n",
              "      <td>27.0</td>\n",
              "      <td>36.0</td>\n",
              "      <td>46.00</td>\n",
              "      <td>80.0</td>\n",
              "    </tr>\n",
              "    <tr>\n",
              "      <th>Male</th>\n",
              "      <td>192.0</td>\n",
              "      <td>37.208333</td>\n",
              "      <td>12.049563</td>\n",
              "      <td>17.0</td>\n",
              "      <td>28.0</td>\n",
              "      <td>35.0</td>\n",
              "      <td>45.00</td>\n",
              "      <td>82.0</td>\n",
              "    </tr>\n",
              "    <tr>\n",
              "      <th rowspan=\"2\" valign=\"top\">Asian-Pac-Islander</th>\n",
              "      <th>Female</th>\n",
              "      <td>346.0</td>\n",
              "      <td>35.089595</td>\n",
              "      <td>12.300845</td>\n",
              "      <td>17.0</td>\n",
              "      <td>25.0</td>\n",
              "      <td>33.0</td>\n",
              "      <td>43.75</td>\n",
              "      <td>75.0</td>\n",
              "    </tr>\n",
              "    <tr>\n",
              "      <th>Male</th>\n",
              "      <td>693.0</td>\n",
              "      <td>39.073593</td>\n",
              "      <td>12.883944</td>\n",
              "      <td>18.0</td>\n",
              "      <td>29.0</td>\n",
              "      <td>37.0</td>\n",
              "      <td>46.00</td>\n",
              "      <td>90.0</td>\n",
              "    </tr>\n",
              "    <tr>\n",
              "      <th rowspan=\"2\" valign=\"top\">Black</th>\n",
              "      <th>Female</th>\n",
              "      <td>1555.0</td>\n",
              "      <td>37.854019</td>\n",
              "      <td>12.637197</td>\n",
              "      <td>17.0</td>\n",
              "      <td>28.0</td>\n",
              "      <td>37.0</td>\n",
              "      <td>46.00</td>\n",
              "      <td>90.0</td>\n",
              "    </tr>\n",
              "    <tr>\n",
              "      <th>Male</th>\n",
              "      <td>1569.0</td>\n",
              "      <td>37.682600</td>\n",
              "      <td>12.882612</td>\n",
              "      <td>17.0</td>\n",
              "      <td>27.0</td>\n",
              "      <td>36.0</td>\n",
              "      <td>46.00</td>\n",
              "      <td>90.0</td>\n",
              "    </tr>\n",
              "    <tr>\n",
              "      <th rowspan=\"2\" valign=\"top\">Other</th>\n",
              "      <th>Female</th>\n",
              "      <td>109.0</td>\n",
              "      <td>31.678899</td>\n",
              "      <td>11.631599</td>\n",
              "      <td>17.0</td>\n",
              "      <td>23.0</td>\n",
              "      <td>29.0</td>\n",
              "      <td>39.00</td>\n",
              "      <td>74.0</td>\n",
              "    </tr>\n",
              "    <tr>\n",
              "      <th>Male</th>\n",
              "      <td>162.0</td>\n",
              "      <td>34.654321</td>\n",
              "      <td>11.355531</td>\n",
              "      <td>17.0</td>\n",
              "      <td>26.0</td>\n",
              "      <td>32.0</td>\n",
              "      <td>42.00</td>\n",
              "      <td>77.0</td>\n",
              "    </tr>\n",
              "    <tr>\n",
              "      <th rowspan=\"2\" valign=\"top\">White</th>\n",
              "      <th>Female</th>\n",
              "      <td>8642.0</td>\n",
              "      <td>36.811618</td>\n",
              "      <td>14.329093</td>\n",
              "      <td>17.0</td>\n",
              "      <td>25.0</td>\n",
              "      <td>35.0</td>\n",
              "      <td>46.00</td>\n",
              "      <td>90.0</td>\n",
              "    </tr>\n",
              "    <tr>\n",
              "      <th>Male</th>\n",
              "      <td>19174.0</td>\n",
              "      <td>39.652498</td>\n",
              "      <td>13.436029</td>\n",
              "      <td>17.0</td>\n",
              "      <td>29.0</td>\n",
              "      <td>38.0</td>\n",
              "      <td>49.00</td>\n",
              "      <td>90.0</td>\n",
              "    </tr>\n",
              "  </tbody>\n",
              "</table>\n",
              "</div>"
            ],
            "text/plain": [
              "                             count       mean        std  ...   50%    75%   max\n",
              "race               sex                                    ...                   \n",
              "Amer-Indian-Eskimo Female    119.0  37.117647  13.114991  ...  36.0  46.00  80.0\n",
              "                   Male      192.0  37.208333  12.049563  ...  35.0  45.00  82.0\n",
              "Asian-Pac-Islander Female    346.0  35.089595  12.300845  ...  33.0  43.75  75.0\n",
              "                   Male      693.0  39.073593  12.883944  ...  37.0  46.00  90.0\n",
              "Black              Female   1555.0  37.854019  12.637197  ...  37.0  46.00  90.0\n",
              "                   Male     1569.0  37.682600  12.882612  ...  36.0  46.00  90.0\n",
              "Other              Female    109.0  31.678899  11.631599  ...  29.0  39.00  74.0\n",
              "                   Male      162.0  34.654321  11.355531  ...  32.0  42.00  77.0\n",
              "White              Female   8642.0  36.811618  14.329093  ...  35.0  46.00  90.0\n",
              "                   Male    19174.0  39.652498  13.436029  ...  38.0  49.00  90.0\n",
              "\n",
              "[10 rows x 8 columns]"
            ]
          },
          "metadata": {},
          "execution_count": 12
        }
      ]
    },
    {
      "cell_type": "markdown",
      "metadata": {
        "_uuid": "19411d604b0d4337a4a048a2f0e898541f39ab76",
        "id": "90PPsNEs6B5K"
      },
      "source": [
        "**8. Among whom is the proportion of those who earn a lot (>50K) greater: married or single men (*marital-status* feature)? Consider as married those who have a *marital-status* starting with *Married* (Married-civ-spouse, Married-spouse-absent or Married-AF-spouse), the rest are considered bachelors.**"
      ]
    },
    {
      "cell_type": "code",
      "metadata": {
        "_uuid": "5bb3a8524fcbd794707075ccf6aaf8dd0f30a3dd",
        "colab": {
          "base_uri": "https://localhost:8080/"
        },
        "id": "GGBhz2Ou6B5L",
        "cellView": "code",
        "outputId": "523f74fa-a15f-4b56-adec-0dc029d0a03d"
      },
      "source": [
        "\n",
        "# You code here\n",
        "print(\"Married\")\n",
        "print(data.loc[data['marital-status'].str.contains(\"married\")& (data['sex']==\"Male\"),'salary'].value_counts())\n",
        "print(\"Bachelors\")\n",
        "print(data.loc[data['marital-status'].str.contains(\"married\")& (data['sex']==\"Male\"),'salary'].value_counts())\n"
      ],
      "execution_count": null,
      "outputs": [
        {
          "output_type": "stream",
          "name": "stdout",
          "text": [
            "Married\n",
            "<=50K    5591\n",
            ">50K      325\n",
            "Name: salary, dtype: int64\n",
            "Bachelors\n",
            "<=50K    5591\n",
            ">50K      325\n",
            "Name: salary, dtype: int64\n"
          ]
        }
      ]
    },
    {
      "cell_type": "markdown",
      "metadata": {
        "_uuid": "34f2076e7d331b95a23b990372809b709d2c8183",
        "id": "gHrfc25w6B5M"
      },
      "source": [
        "**9. What is the maximum number of hours a person works per week (*hours-per-week* feature)? How many people work such a number of hours, and what is the percentage of those who earn a lot (>50K) among them?**"
      ]
    },
    {
      "cell_type": "code",
      "metadata": {
        "_uuid": "3571468172fc4bcf34e10b3d6ab358d4e41f7ef4",
        "colab": {
          "base_uri": "https://localhost:8080/"
        },
        "id": "r0GEEjEt6B5M",
        "cellView": "code",
        "outputId": "ce187145-194e-42a5-8616-c911b3d2b4e7"
      },
      "source": [
        "\n",
        "# You code here\n",
        "max_load = data['hours-per-week'].max()\n",
        "print(\"Max time - {0} hours./week.\".format(max_load))\n",
        "\n",
        "num_workaholics = data[data['hours-per-week'] == max_load].shape[0]\n",
        "print(\"Total number of such hard workers {0}\".format(num_workaholics))\n",
        "\n",
        "rich_share = float(data[(data['hours-per-week'] == max_load)\n",
        "                 & (data['salary'] == '>50K')].shape[0]) / num_workaholics\n",
        "print(\"Percentage of rich among them {0}%\".format(int(100 * rich_share)))"
      ],
      "execution_count": null,
      "outputs": [
        {
          "output_type": "stream",
          "name": "stdout",
          "text": [
            "Max time - 99 hours./week.\n",
            "Total number of such hard workers 85\n",
            "Percentage of rich among them 29%\n"
          ]
        }
      ]
    },
    {
      "cell_type": "markdown",
      "metadata": {
        "_uuid": "d539d4d137fac1c5ea25bc516188eb657d67e9b4",
        "id": "SLd-94rZ6B5N"
      },
      "source": [
        "**10. Count the average time of work (*hours-per-week*) for those who earn a little and a lot (*salary*) for each country (*native-country*). What will these be for Japan?**"
      ]
    },
    {
      "cell_type": "code",
      "metadata": {
        "colab": {
          "base_uri": "https://localhost:8080/"
        },
        "id": "fYWSjW4LTAuG",
        "outputId": "f58d105d-c384-46b9-f5eb-fc1ebd5b5e74"
      },
      "source": [
        "# You code here\n",
        "sub_df=data.groupby(['native-country','salary']).mean()\n",
        "for i in range(sub_df.shape[0]):\n",
        "    print(sub_df[i:i+1][['hours-per-week']])"
      ],
      "execution_count": null,
      "outputs": [
        {
          "output_type": "stream",
          "name": "stdout",
          "text": [
            "                       hours-per-week\n",
            "native-country salary                \n",
            "?              <=50K         40.16476\n",
            "                       hours-per-week\n",
            "native-country salary                \n",
            "?              >50K         45.547945\n",
            "                       hours-per-week\n",
            "native-country salary                \n",
            "Cambodia       <=50K        41.416667\n",
            "                       hours-per-week\n",
            "native-country salary                \n",
            "Cambodia       >50K              40.0\n",
            "                       hours-per-week\n",
            "native-country salary                \n",
            "Canada         <=50K        37.914634\n",
            "                       hours-per-week\n",
            "native-country salary                \n",
            "Canada         >50K         45.641026\n",
            "                       hours-per-week\n",
            "native-country salary                \n",
            "China          <=50K        37.381818\n",
            "                       hours-per-week\n",
            "native-country salary                \n",
            "China          >50K              38.9\n",
            "                       hours-per-week\n",
            "native-country salary                \n",
            "Columbia       <=50K        38.684211\n",
            "                       hours-per-week\n",
            "native-country salary                \n",
            "Columbia       >50K              50.0\n",
            "                       hours-per-week\n",
            "native-country salary                \n",
            "Cuba           <=50K        37.985714\n",
            "                       hours-per-week\n",
            "native-country salary                \n",
            "Cuba           >50K             42.44\n",
            "                           hours-per-week\n",
            "native-country     salary                \n",
            "Dominican-Republic <=50K        42.338235\n",
            "                           hours-per-week\n",
            "native-country     salary                \n",
            "Dominican-Republic >50K              47.0\n",
            "                       hours-per-week\n",
            "native-country salary                \n",
            "Ecuador        <=50K        38.041667\n",
            "                       hours-per-week\n",
            "native-country salary                \n",
            "Ecuador        >50K             48.75\n",
            "                       hours-per-week\n",
            "native-country salary                \n",
            "El-Salvador    <=50K        36.030928\n",
            "                       hours-per-week\n",
            "native-country salary                \n",
            "El-Salvador    >50K              45.0\n",
            "                       hours-per-week\n",
            "native-country salary                \n",
            "England        <=50K        40.483333\n",
            "                       hours-per-week\n",
            "native-country salary                \n",
            "England        >50K         44.533333\n",
            "                       hours-per-week\n",
            "native-country salary                \n",
            "France         <=50K        41.058824\n",
            "                       hours-per-week\n",
            "native-country salary                \n",
            "France         >50K             50.75\n",
            "                       hours-per-week\n",
            "native-country salary                \n",
            "Germany        <=50K        39.139785\n",
            "                       hours-per-week\n",
            "native-country salary                \n",
            "Germany        >50K         44.977273\n",
            "                       hours-per-week\n",
            "native-country salary                \n",
            "Greece         <=50K        41.809524\n",
            "                       hours-per-week\n",
            "native-country salary                \n",
            "Greece         >50K            50.625\n",
            "                       hours-per-week\n",
            "native-country salary                \n",
            "Guatemala      <=50K        39.360656\n",
            "                       hours-per-week\n",
            "native-country salary                \n",
            "Guatemala      >50K         36.666667\n",
            "                       hours-per-week\n",
            "native-country salary                \n",
            "Haiti          <=50K           36.325\n",
            "                       hours-per-week\n",
            "native-country salary                \n",
            "Haiti          >50K             42.75\n",
            "                           hours-per-week\n",
            "native-country     salary                \n",
            "Holand-Netherlands <=50K             40.0\n",
            "                       hours-per-week\n",
            "native-country salary                \n",
            "Honduras       <=50K        34.333333\n",
            "                       hours-per-week\n",
            "native-country salary                \n",
            "Honduras       >50K              60.0\n",
            "                       hours-per-week\n",
            "native-country salary                \n",
            "Hong           <=50K        39.142857\n",
            "                       hours-per-week\n",
            "native-country salary                \n",
            "Hong           >50K              45.0\n",
            "                       hours-per-week\n",
            "native-country salary                \n",
            "Hungary        <=50K             31.3\n",
            "                       hours-per-week\n",
            "native-country salary                \n",
            "Hungary        >50K              50.0\n",
            "                       hours-per-week\n",
            "native-country salary                \n",
            "India          <=50K        38.233333\n",
            "                       hours-per-week\n",
            "native-country salary                \n",
            "India          >50K            46.475\n",
            "                       hours-per-week\n",
            "native-country salary                \n",
            "Iran           <=50K            41.44\n",
            "                       hours-per-week\n",
            "native-country salary                \n",
            "Iran           >50K              47.5\n",
            "                       hours-per-week\n",
            "native-country salary                \n",
            "Ireland        <=50K        40.947368\n",
            "                       hours-per-week\n",
            "native-country salary                \n",
            "Ireland        >50K              48.0\n",
            "                       hours-per-week\n",
            "native-country salary                \n",
            "Italy          <=50K           39.625\n",
            "                       hours-per-week\n",
            "native-country salary                \n",
            "Italy          >50K              45.4\n",
            "                       hours-per-week\n",
            "native-country salary                \n",
            "Jamaica        <=50K        38.239437\n",
            "                       hours-per-week\n",
            "native-country salary                \n",
            "Jamaica        >50K              41.1\n",
            "                       hours-per-week\n",
            "native-country salary                \n",
            "Japan          <=50K             41.0\n",
            "                       hours-per-week\n",
            "native-country salary                \n",
            "Japan          >50K         47.958333\n",
            "                       hours-per-week\n",
            "native-country salary                \n",
            "Laos           <=50K           40.375\n",
            "                       hours-per-week\n",
            "native-country salary                \n",
            "Laos           >50K              40.0\n",
            "                       hours-per-week\n",
            "native-country salary                \n",
            "Mexico         <=50K        40.003279\n",
            "                       hours-per-week\n",
            "native-country salary                \n",
            "Mexico         >50K         46.575758\n",
            "                       hours-per-week\n",
            "native-country salary                \n",
            "Nicaragua      <=50K         36.09375\n",
            "                       hours-per-week\n",
            "native-country salary                \n",
            "Nicaragua      >50K              37.5\n",
            "                                   hours-per-week\n",
            "native-country             salary                \n",
            "Outlying-US(Guam-USVI-etc) <=50K        41.857143\n",
            "                       hours-per-week\n",
            "native-country salary                \n",
            "Peru           <=50K        35.068966\n",
            "                       hours-per-week\n",
            "native-country salary                \n",
            "Peru           >50K              40.0\n",
            "                       hours-per-week\n",
            "native-country salary                \n",
            "Philippines    <=50K        38.065693\n",
            "                       hours-per-week\n",
            "native-country salary                \n",
            "Philippines    >50K         43.032787\n",
            "                       hours-per-week\n",
            "native-country salary                \n",
            "Poland         <=50K        38.166667\n",
            "                       hours-per-week\n",
            "native-country salary                \n",
            "Poland         >50K              39.0\n",
            "                       hours-per-week\n",
            "native-country salary                \n",
            "Portugal       <=50K        41.939394\n",
            "                       hours-per-week\n",
            "native-country salary                \n",
            "Portugal       >50K              41.5\n",
            "                       hours-per-week\n",
            "native-country salary                \n",
            "Puerto-Rico    <=50K        38.470588\n",
            "                       hours-per-week\n",
            "native-country salary                \n",
            "Puerto-Rico    >50K         39.416667\n",
            "                       hours-per-week\n",
            "native-country salary                \n",
            "Scotland       <=50K        39.444444\n",
            "                       hours-per-week\n",
            "native-country salary                \n",
            "Scotland       >50K         46.666667\n",
            "                       hours-per-week\n",
            "native-country salary                \n",
            "South          <=50K         40.15625\n",
            "                       hours-per-week\n",
            "native-country salary                \n",
            "South          >50K           51.4375\n",
            "                       hours-per-week\n",
            "native-country salary                \n",
            "Taiwan         <=50K        33.774194\n",
            "                       hours-per-week\n",
            "native-country salary                \n",
            "Taiwan         >50K              46.8\n",
            "                       hours-per-week\n",
            "native-country salary                \n",
            "Thailand       <=50K        42.866667\n",
            "                       hours-per-week\n",
            "native-country salary                \n",
            "Thailand       >50K         58.333333\n",
            "                        hours-per-week\n",
            "native-country  salary                \n",
            "Trinadad&Tobago <=50K        37.058824\n",
            "                        hours-per-week\n",
            "native-country  salary                \n",
            "Trinadad&Tobago >50K              40.0\n",
            "                       hours-per-week\n",
            "native-country salary                \n",
            "United-States  <=50K        38.799127\n",
            "                       hours-per-week\n",
            "native-country salary                \n",
            "United-States  >50K         45.505369\n",
            "                       hours-per-week\n",
            "native-country salary                \n",
            "Vietnam        <=50K        37.193548\n",
            "                       hours-per-week\n",
            "native-country salary                \n",
            "Vietnam        >50K              39.2\n",
            "                       hours-per-week\n",
            "native-country salary                \n",
            "Yugoslavia     <=50K             41.6\n",
            "                       hours-per-week\n",
            "native-country salary                \n",
            "Yugoslavia     >50K              49.5\n"
          ]
        }
      ]
    }
  ]
}